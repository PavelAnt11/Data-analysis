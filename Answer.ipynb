{
 "cells": [
  {
   "cell_type": "markdown",
   "metadata": {},
   "source": [
    "### Задача 1\n",
    "  Раз в 10 дней компания отправляет всем действующим клиентам предложение\n",
    "  закрыть текущий займ досрочно и получить новый на лучших условиях. Как можно\n",
    "  оценить эффективность такой рассылки?\n",
    "    \n",
    "   **Метрика для оценки эффективности рассылки — уровень конверсии.\n",
    "      Конверсия отображает сколько клиентов закрыли текущий займ досрочно  и получили новый благодаря нашей рассылке.**\n"
   ]
  },
  {
   "cell_type": "markdown",
   "metadata": {},
   "source": [
    "### Задача 2\n",
    " Вам дана sql таблица с действиями клиентов на сайте:  \n",
    " Подозрительными считаются действия разного типа (action_type) \n",
    " совершенные с интервалом менее 10 секунд одним пользователем.   \n",
    " напишите sql запрос которыйвыведет все такие действия."
   ]
  },
  {
   "cell_type": "code",
   "execution_count": null,
   "metadata": {},
   "outputs": [],
   "source": [
    "SELECT client_id, created_at, action_type, time_interval, dif_action\n",
    "FROM \n",
    "\t(SELECT client_id,created_at,action_type, LAG(action_type) OVER() - action_type AS dif_action, LAG(created_at) \n",
    "\tOVER(PARTITION BY client_id ORDER BY created_at) - created_at AS time_interval\n",
    "\tFROM client_action) AS ss\n",
    "WHERE -time_interval < '00:00:10' AND dif_action != 0;"
   ]
  }
 ],
 "metadata": {
  "kernelspec": {
   "display_name": "Python 3",
   "language": "python",
   "name": "python3"
  },
  "language_info": {
   "codemirror_mode": {
    "name": "ipython",
    "version": 3
   },
   "file_extension": ".py",
   "mimetype": "text/x-python",
   "name": "python",
   "nbconvert_exporter": "python",
   "pygments_lexer": "ipython3",
   "version": "3.8.3"
  }
 },
 "nbformat": 4,
 "nbformat_minor": 4
}
